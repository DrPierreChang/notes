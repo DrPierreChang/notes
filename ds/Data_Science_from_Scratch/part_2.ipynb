{
 "cells": [
  {
   "cell_type": "code",
   "execution_count": 27,
   "outputs": [
    {
     "name": "stdout",
     "output_type": "stream",
     "text": [
      "\\t\n"
     ]
    }
   ],
   "source": [
    "# raw string can contain special symbols\n",
    "raw_string = r\"\\t\"\n",
    "print(raw_string)"
   ],
   "metadata": {
    "collapsed": false,
    "pycharm": {
     "name": "#%%\n"
    }
   }
  },
  {
   "cell_type": "code",
   "execution_count": 28,
   "outputs": [
    {
     "name": "stdout",
     "output_type": "stream",
     "text": [
      "Нельзя делить на ноль\n"
     ]
    }
   ],
   "source": [
    "try:\n",
    "    print(0 / 0)\n",
    "except ZeroDivisionError:\n",
    "    print(\"Нельзя делить на ноль\")"
   ],
   "metadata": {
    "collapsed": false,
    "pycharm": {
     "name": "#%%\n"
    }
   }
  },
  {
   "cell_type": "code",
   "execution_count": 29,
   "outputs": [
    {
     "name": "stdout",
     "output_type": "stream",
     "text": [
      "[1, 2, 3, 4, 5, 6]\n"
     ]
    }
   ],
   "source": [
    "l1 = [1, 2, 3]\n",
    "l2 = [4, 5, 6]\n",
    "\n",
    "l1.extend(l2)\n",
    "print(l1)"
   ],
   "metadata": {
    "collapsed": false,
    "pycharm": {
     "name": "#%%\n"
    }
   }
  },
  {
   "cell_type": "code",
   "execution_count": 32,
   "outputs": [
    {
     "name": "stdout",
     "output_type": "stream",
     "text": [
      "1 2\n"
     ]
    }
   ],
   "source": [
    "# unpack list\n",
    "_, y = [1, 2]\n",
    "print(_, y)"
   ],
   "metadata": {
    "collapsed": false,
    "pycharm": {
     "name": "#%%\n"
    }
   }
  },
  {
   "cell_type": "code",
   "execution_count": 33,
   "outputs": [
    {
     "name": "stdout",
     "output_type": "stream",
     "text": [
      "(1, 2, 3, 4, 5)\n"
     ]
    }
   ],
   "source": [
    "# tuple can be created without using brackets\n",
    "tup = 1, 2, 3, 4, 5\n",
    "print(tup)"
   ],
   "metadata": {
    "collapsed": false,
    "pycharm": {
     "name": "#%%\n"
    }
   }
  },
  {
   "cell_type": "code",
   "execution_count": 39,
   "outputs": [
    {
     "name": "stdout",
     "output_type": "stream",
     "text": [
      "1 2\n"
     ]
    }
   ],
   "source": [
    "# tuples can be used to return several values from function\n",
    "\n",
    "def return_multiple_values():\n",
    "    x = 1\n",
    "    y = 2\n",
    "    return x, y\n",
    "first, second = return_multiple_values()\n",
    "print(first, second)"
   ],
   "metadata": {
    "collapsed": false,
    "pycharm": {
     "name": "#%%\n"
    }
   }
  },
  {
   "cell_type": "code",
   "execution_count": null,
   "outputs": [],
   "source": [
    "# python way of values exchange\n",
    "x, y = 1, 2\n",
    "x, y = y, x"
   ],
   "metadata": {
    "collapsed": false,
    "pycharm": {
     "name": "#%%\n"
    }
   }
  },
  {
   "cell_type": "code",
   "execution_count": 49,
   "outputs": [
    {
     "name": "stdout",
     "output_type": "stream",
     "text": [
      "{'Test': 0}\n"
     ]
    }
   ],
   "source": [
    "d = {}\n",
    "d[\"Test\"] = d.get(\"Test\", 0)\n",
    "print(d)"
   ],
   "metadata": {
    "collapsed": false,
    "pycharm": {
     "name": "#%%\n"
    }
   }
  },
  {
   "cell_type": "code",
   "execution_count": 52,
   "outputs": [
    {
     "data": {
      "text/plain": "{'Test': 3}"
     },
     "execution_count": 52,
     "metadata": {},
     "output_type": "execute_result"
    }
   ],
   "source": [
    "d[\"Test\"] = d.get(\"Test\", 0) + 1\n",
    "d"
   ],
   "metadata": {
    "collapsed": false,
    "pycharm": {
     "name": "#%%\n"
    }
   }
  },
  {
   "cell_type": "code",
   "execution_count": 15,
   "outputs": [
    {
     "data": {
      "text/plain": "[('c', 3), ('b', 2), ('a', 1)]"
     },
     "execution_count": 15,
     "metadata": {},
     "output_type": "execute_result"
    }
   ],
   "source": [
    "from collections import defaultdict\n",
    "word_counts = defaultdict(int)\n",
    "document = [\"a\", \"b\", \"b\", \"c\", \"c\", \"c\"]\n",
    "for word in document:\n",
    "    word_counts[word] += 1\n",
    "\n",
    "wc = sorted(word_counts.items(),\n",
    "            key=lambda word_and_count: word_and_count[1],\n",
    "            reverse=True)\n",
    "wc"
   ],
   "metadata": {
    "collapsed": false,
    "pycharm": {
     "name": "#%%\n"
    }
   }
  },
  {
   "cell_type": "code",
   "execution_count": 56,
   "outputs": [
    {
     "data": {
      "text/plain": "defaultdict(list, {'key': ['value1', 'value2']})"
     },
     "execution_count": 56,
     "metadata": {},
     "output_type": "execute_result"
    }
   ],
   "source": [
    "dd_list = defaultdict(list)\n",
    "dd_list[\"key\"].append(\"value1\")\n",
    "dd_list[\"key\"].append(\"value2\")\n",
    "dd_list"
   ],
   "metadata": {
    "collapsed": false,
    "pycharm": {
     "name": "#%%\n"
    }
   }
  },
  {
   "cell_type": "code",
   "execution_count": 59,
   "outputs": [
    {
     "data": {
      "text/plain": "{'a': 1, 'b': 2, 'c': 3}"
     },
     "execution_count": 59,
     "metadata": {},
     "output_type": "execute_result"
    }
   ],
   "source": [
    "from collections import Counter\n",
    "document = [\"a\", \"b\", \"b\", \"c\", \"c\", \"c\"]\n",
    "dict(Counter(document))"
   ],
   "metadata": {
    "collapsed": false,
    "pycharm": {
     "name": "#%%\n"
    }
   }
  },
  {
   "cell_type": "code",
   "execution_count": 62,
   "outputs": [
    {
     "name": "stdout",
     "output_type": "stream",
     "text": [
      "c 3\n"
     ]
    }
   ],
   "source": [
    "for word, count in Counter(document).most_common(1):\n",
    "    print(word, count)"
   ],
   "metadata": {
    "collapsed": false,
    "pycharm": {
     "name": "#%%\n"
    }
   }
  },
  {
   "cell_type": "code",
   "execution_count": 9,
   "outputs": [
    {
     "data": {
      "text/plain": "5"
     },
     "execution_count": 9,
     "metadata": {},
     "output_type": "execute_result"
    }
   ],
   "source": [
    "x = 0\n",
    "safe_x = x or 5\n",
    "safe_x"
   ],
   "metadata": {
    "collapsed": false,
    "pycharm": {
     "name": "#%%\n"
    }
   }
  },
  {
   "cell_type": "code",
   "execution_count": 10,
   "outputs": [
    {
     "data": {
      "text/plain": "0"
     },
     "execution_count": 10,
     "metadata": {},
     "output_type": "execute_result"
    }
   ],
   "source": [
    "x = 0\n",
    "safe_x = x and 5\n",
    "safe_x"
   ],
   "metadata": {
    "collapsed": false,
    "pycharm": {
     "name": "#%%\n"
    }
   }
  },
  {
   "cell_type": "code",
   "execution_count": 11,
   "outputs": [
    {
     "data": {
      "text/plain": "True"
     },
     "execution_count": 11,
     "metadata": {},
     "output_type": "execute_result"
    }
   ],
   "source": [
    "all([])"
   ],
   "metadata": {
    "collapsed": false,
    "pycharm": {
     "name": "#%%\n"
    }
   }
  },
  {
   "cell_type": "code",
   "execution_count": 4,
   "outputs": [
    {
     "data": {
      "text/plain": "False"
     },
     "execution_count": 4,
     "metadata": {},
     "output_type": "execute_result"
    }
   ],
   "source": [
    "any([])"
   ],
   "metadata": {
    "collapsed": false,
    "pycharm": {
     "name": "#%%\n"
    }
   }
  },
  {
   "cell_type": "code",
   "execution_count": 7,
   "outputs": [
    {
     "data": {
      "text/plain": "[-4, 3, 2, -1, 0]"
     },
     "execution_count": 7,
     "metadata": {},
     "output_type": "execute_result"
    }
   ],
   "source": [
    "l = [-1, 2, 3, -4, 0]\n",
    "sorted(l, key=abs, reverse=True)"
   ],
   "metadata": {
    "collapsed": false,
    "pycharm": {
     "name": "#%%\n"
    }
   }
  },
  {
   "cell_type": "code",
   "execution_count": 23,
   "outputs": [],
   "source": [
    "pairs = {(x, y) for x in range(10)\n",
    "         for y in range(x+1, 10)}"
   ],
   "metadata": {
    "collapsed": false,
    "pycharm": {
     "name": "#%%\n"
    }
   }
  },
  {
   "cell_type": "code",
   "execution_count": 34,
   "outputs": [
    {
     "ename": "AssertionError",
     "evalue": "1 + 1 должно равняться 2, но эдесь это не так",
     "output_type": "error",
     "traceback": [
      "\u001B[0;31m---------------------------------------------------------------------------\u001B[0m",
      "\u001B[0;31mAssertionError\u001B[0m                            Traceback (most recent call last)",
      "Input \u001B[0;32mIn [34]\u001B[0m, in \u001B[0;36m<cell line: 1>\u001B[0;34m()\u001B[0m\n\u001B[0;32m----> 1\u001B[0m \u001B[38;5;28;01massert\u001B[39;00m \u001B[38;5;241m1\u001B[39m \u001B[38;5;241m+\u001B[39m \u001B[38;5;241m1\u001B[39m \u001B[38;5;241m==\u001B[39m \u001B[38;5;241m20\u001B[39m, \u001B[38;5;124m\"\u001B[39m\u001B[38;5;124m1 + 1 должно равняться 2, но эдесь это не так\u001B[39m\u001B[38;5;124m\"\u001B[39m\n",
      "\u001B[0;31mAssertionError\u001B[0m: 1 + 1 должно равняться 2, но эдесь это не так"
     ]
    }
   ],
   "source": [
    "assert 1 + 1 == 20, \"1 + 1 должно равняться 2, но эдесь это не так\""
   ],
   "metadata": {
    "collapsed": false,
    "pycharm": {
     "name": "#%%\n"
    }
   }
  },
  {
   "cell_type": "code",
   "execution_count": 31,
   "outputs": [],
   "source": [
    "assert 1"
   ],
   "metadata": {
    "collapsed": false,
    "pycharm": {
     "name": "#%%\n"
    }
   }
  },
  {
   "cell_type": "code",
   "execution_count": 39,
   "outputs": [],
   "source": [
    "def smallest_item(xs):\n",
    "    return min(xs)\n",
    "\n",
    "assert smallest_item([10, 20, 5, 40]) == 5\n",
    "assert smallest_item( [1, 0, -1, 2]) == -1"
   ],
   "metadata": {
    "collapsed": false,
    "pycharm": {
     "name": "#%%\n"
    }
   }
  },
  {
   "cell_type": "markdown",
   "source": [
    "Итерируемые объекты и генераторы"
   ],
   "metadata": {
    "collapsed": false,
    "pycharm": {
     "name": "#%% md\n"
    }
   }
  },
  {
   "cell_type": "code",
   "execution_count": 4,
   "outputs": [
    {
     "name": "stdout",
     "output_type": "stream",
     "text": [
      "1\n",
      "2\n",
      "3\n",
      "4\n"
     ]
    }
   ],
   "source": [
    "def my_range(start=0, stop = 10):\n",
    "    while start < stop:\n",
    "        yield start\n",
    "        start += 1\n",
    "\n",
    "for i in my_range(1, 5):\n",
    "    print(i)"
   ],
   "metadata": {
    "collapsed": false,
    "pycharm": {
     "name": "#%%\n"
    }
   }
  },
  {
   "cell_type": "code",
   "execution_count": 5,
   "outputs": [
    {
     "name": "stdout",
     "output_type": "stream",
     "text": [
      "name 0 is Alice\n",
      "name 1 is ВоЬ\n",
      "name 2 is Charlie\n",
      "name 3 is DebЬie\n"
     ]
    }
   ],
   "source": [
    "# получение индекса и значения\n",
    "names = [ \"Alice\", \"ВоЬ\", \"Charlie\", \"DebЬie\"]\n",
    "\n",
    "# По-Руthоn'овски\n",
    "for i, name in enumerate(names):\n",
    "    print(f\"name {i} is {name}\")"
   ],
   "metadata": {
    "collapsed": false,
    "pycharm": {
     "name": "#%%\n"
    }
   }
  },
  {
   "cell_type": "markdown",
   "source": [
    "Случайность"
   ],
   "metadata": {
    "collapsed": false
   }
  },
  {
   "cell_type": "code",
   "execution_count": 24,
   "outputs": [
    {
     "name": "stdout",
     "output_type": "stream",
     "text": [
      "[0.5714025946899135, 0.4288890546751146, 0.5780913011344704, 0.20609823213950174]\n",
      "[6, 1, 5, 7, 8, 3, 9, 0, 2, 4]\n",
      "Alice\n",
      "[26, 55, 8, 38, 22, 24]\n",
      "[6, 4, 4, 7]\n"
     ]
    }
   ],
   "source": [
    "import random\n",
    "\n",
    "random.seed(10) # этим обеспечивается всякий раз одинаковый результат\n",
    "\n",
    "# функция random.random() производит числа равномерно\n",
    "# в интервале между 0 и 1\n",
    "four_uniform_randoms = [random.random() for _ in range(4)]\n",
    "\n",
    "print(four_uniform_randoms)\n",
    "\n",
    "# случайный элемент из интервала\n",
    "random.randrange(3, 6)\n",
    "\n",
    "# перетасовка элементов списка\n",
    "up_to_ten = list(range(10))\n",
    "random.shuffle(up_to_ten)\n",
    "print(up_to_ten)\n",
    "\n",
    "# выбрать случайный элемент из списка\n",
    "my_best_friend = random.choice(['Alice', 'Bob', 'Charlie'])\n",
    "print(my_best_friend)\n",
    "\n",
    "# выборка элементов без повторений\n",
    "lottery_numbers = range(60)\n",
    "winning_numbers = random.sample(lottery_numbers, 6)\n",
    "print(winning_numbers)\n",
    "\n",
    "# выборка элементов с повторениями\n",
    "\n",
    "four_with_replacement = [random.choice(range(10)) for _ in range(4)]\n",
    "print(four_with_replacement)"
   ],
   "metadata": {
    "collapsed": false,
    "pycharm": {
     "name": "#%%\n"
    }
   }
  },
  {
   "cell_type": "markdown",
   "source": [
    "Регулярные выражения"
   ],
   "metadata": {
    "collapsed": false
   }
  },
  {
   "cell_type": "code",
   "execution_count": 57,
   "outputs": [
    {
     "data": {
      "text/plain": "'R-D-'"
     },
     "execution_count": 57,
     "metadata": {},
     "output_type": "execute_result"
    }
   ],
   "source": [
    "import re\n",
    "\n",
    "not re.match('a', 'cat') # слово cat не начинается с a\n",
    "re.search('a', 'cat') # В слове 'cat' есть 'а'\n",
    "not re.search('c', 'dog') # В слове 'dog' нет 'с'.\n",
    "3 == len(re.split('[ab]', 'carbs')) # Разбить по а или Ь\n",
    "re.sub('[0-9]', '-', 'R2D2') # заменить цифры дефисами"
   ],
   "metadata": {
    "collapsed": false,
    "pycharm": {
     "name": "#%%\n"
    }
   }
  },
  {
   "cell_type": "markdown",
   "source": [
    "Функция ZIP"
   ],
   "metadata": {
    "collapsed": false
   }
  },
  {
   "cell_type": "code",
   "execution_count": 70,
   "outputs": [
    {
     "name": "stdout",
     "output_type": "stream",
     "text": [
      "[('a', 1), ('b', 2), ('c', 3)]\n",
      "('a', 'b', 'c') (1, 2, 3)\n"
     ]
    }
   ],
   "source": [
    "l1 = ['a', 'b', 'c']\n",
    "l2 = [1, 2, 3]\n",
    "l_zip = list(zip(l1, l2))\n",
    "print(l_zip)\n",
    "\n",
    "# разделение\n",
    "l3, l4 = zip(*l_zip)\n",
    "print(l3, l4)"
   ],
   "metadata": {
    "collapsed": false,
    "pycharm": {
     "name": "#%%\n"
    }
   }
  },
  {
   "cell_type": "markdown",
   "source": [
    "args and kwargs"
   ],
   "metadata": {
    "collapsed": false
   }
  },
  {
   "cell_type": "code",
   "execution_count": 2,
   "outputs": [
    {
     "name": "stdout",
     "output_type": "stream",
     "text": [
      "Безымянные аргументы: (1, 2)\n",
      "Аргументы по ключу: {'key1': 'word1', 'key2': 'word2'}\n"
     ]
    }
   ],
   "source": [
    "def magic(*args, **kwargs):\n",
    "    print('Безымянные аргументы:', args)\n",
    "    print('Аргументы по ключу:', kwargs)\n",
    "\n",
    "magic(1, 2, key1=\"word1\", key2=\"word2\")"
   ],
   "metadata": {
    "collapsed": false,
    "pycharm": {
     "name": "#%%\n"
    }
   }
  },
  {
   "cell_type": "markdown",
   "source": [
    "Аннотация типов"
   ],
   "metadata": {
    "collapsed": false
   }
  },
  {
   "cell_type": "code",
   "execution_count": 5,
   "outputs": [],
   "source": [
    "# для встроенных типов просто испльзуем сам тип в качестве аннотации\n",
    "def foo(xs: list) -> None:\n",
    "    xs.append(3)\n",
    "\n",
    "\n",
    "# модуль type предоставляет ряд параметризированных типов\n",
    "\n",
    "from typing import List, Optional, Callable\n",
    "\n",
    "def total(xs: List[float]) -> float:\n",
    "    return sum(xs)\n",
    "\n",
    "assert total([2.0, 3.0]) == 5.0\n",
    "\n",
    "# можно анатировать переменные\n",
    "x: int = 5\n",
    "values: List[int] = []\n",
    "best_so_far: Optional[float] = None\n",
    "\n",
    "# ключи являются строками, значения целыми числами\n",
    "count: dict[str, int] = {'data': 1, 'science': 2}\n",
    "\n",
    "\n",
    "# списки и генераторы - итерируемы объекты\n",
    "if lazy:\n",
    "    evens: Iterable[int] = (x for x in range(10) if x % 2 == 0)\n",
    "else:\n",
    "    evens = [0, 2, 4, 6, 8]\n",
    "\n",
    "# конкретизация типа каждого элемента\n",
    "triple: Tuple[int, float, int] = (5, 6.0, \"sad\")\n",
    "\n",
    "# repeater  - это функция\n",
    "# она принимает два аргумента с типами  str и int  и возвращает str\n",
    "def twice(repeater: Callable[[str, int], str], s: str) -> str:\n",
    "    return repeater(s, 2)"
   ],
   "metadata": {
    "collapsed": false,
    "pycharm": {
     "name": "#%%\n"
    }
   }
  }
 ],
 "metadata": {
  "kernelspec": {
   "display_name": "Python 3",
   "language": "python",
   "name": "python3"
  },
  "language_info": {
   "codemirror_mode": {
    "name": "ipython",
    "version": 2
   },
   "file_extension": ".py",
   "mimetype": "text/x-python",
   "name": "python",
   "nbconvert_exporter": "python",
   "pygments_lexer": "ipython2",
   "version": "2.7.6"
  }
 },
 "nbformat": 4,
 "nbformat_minor": 0
}